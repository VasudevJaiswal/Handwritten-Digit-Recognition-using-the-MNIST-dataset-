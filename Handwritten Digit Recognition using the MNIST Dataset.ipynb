{
 "cells": [
  {
   "cell_type": "code",
   "execution_count": 23,
   "id": "8660c0fd-d128-4fb0-9b9f-cb32c465c5c7",
   "metadata": {
    "tags": []
   },
   "outputs": [],
   "source": [
    "# Import necessary libraries\n",
    "from keras.models import Sequential\n",
    "from keras.datasets import mnist\n",
    "from keras.layers import Dense\n",
    "import matplotlib.pyplot as plt\n",
    "import numpy as np\n",
    "from sklearn.metrics import confusion_matrix, classification_report\n",
    "from keras.utils import to_categorical"
   ]
  },
  {
   "cell_type": "code",
   "execution_count": 2,
   "id": "5a9bc49e-9e54-41a5-9932-754eda244135",
   "metadata": {
    "tags": []
   },
   "outputs": [
    {
     "name": "stdout",
     "output_type": "stream",
     "text": [
      "A local file was found, but it seems to be incomplete or outdated because the auto file hash does not match the original value of 731c5ac602752760c8e48fbffcf8c3b850d9dc2a2aedcf2cc48468fc17b673d1 so we will re-download the data.\n",
      "Downloading data from https://storage.googleapis.com/tensorflow/tf-keras-datasets/mnist.npz\n",
      "11490434/11490434 [==============================] - 33s 3us/step\n"
     ]
    }
   ],
   "source": [
    "dataset = mnist.load_data('mnist.db')"
   ]
  },
  {
   "cell_type": "code",
   "execution_count": 3,
   "id": "f14293d0-c433-4c7e-9a4d-d37154864784",
   "metadata": {
    "tags": []
   },
   "outputs": [],
   "source": [
    "train,test = dataset"
   ]
  },
  {
   "cell_type": "code",
   "execution_count": 4,
   "id": "82bda071-886b-480b-89cb-b056a2feab13",
   "metadata": {
    "tags": []
   },
   "outputs": [
    {
     "data": {
      "text/plain": [
       "2"
      ]
     },
     "execution_count": 4,
     "metadata": {},
     "output_type": "execute_result"
    }
   ],
   "source": [
    "len(train)"
   ]
  },
  {
   "cell_type": "code",
   "execution_count": 5,
   "id": "45c6623b-488a-4542-97b2-103fde03ad4c",
   "metadata": {
    "tags": []
   },
   "outputs": [],
   "source": [
    "X_train,Y_train = train"
   ]
  },
  {
   "cell_type": "code",
   "execution_count": 6,
   "id": "b1891ecd-346c-4915-9184-c354f75fe5ca",
   "metadata": {
    "tags": []
   },
   "outputs": [],
   "source": [
    "X_test,Y_test = test"
   ]
  },
  {
   "cell_type": "code",
   "execution_count": 7,
   "id": "27870365-ca94-429a-a6d7-908e3c7609c3",
   "metadata": {
    "tags": []
   },
   "outputs": [
    {
     "data": {
      "text/plain": [
       "60000"
      ]
     },
     "execution_count": 7,
     "metadata": {},
     "output_type": "execute_result"
    }
   ],
   "source": [
    "len(X_train)"
   ]
  },
  {
   "cell_type": "code",
   "execution_count": 10,
   "id": "00b52532-66bf-4f48-995e-f952929c086e",
   "metadata": {
    "tags": []
   },
   "outputs": [
    {
     "data": {
      "text/plain": [
       "10000"
      ]
     },
     "execution_count": 10,
     "metadata": {},
     "output_type": "execute_result"
    }
   ],
   "source": [
    "len(X_test)"
   ]
  },
  {
   "cell_type": "code",
   "execution_count": 11,
   "id": "92ec29f7-1935-4f83-95b3-57f5a5e577a2",
   "metadata": {
    "tags": []
   },
   "outputs": [
    {
     "data": {
      "text/plain": [
       "(28, 28)"
      ]
     },
     "execution_count": 11,
     "metadata": {},
     "output_type": "execute_result"
    }
   ],
   "source": [
    "X_train[0].shape"
   ]
  },
  {
   "cell_type": "code",
   "execution_count": 12,
   "id": "e0d752b3-5f9a-4168-9cf4-35d497ff2f10",
   "metadata": {
    "tags": []
   },
   "outputs": [
    {
     "data": {
      "text/plain": [
       "2"
      ]
     },
     "execution_count": 12,
     "metadata": {},
     "output_type": "execute_result"
    }
   ],
   "source": [
    "X_train[0].ndim"
   ]
  },
  {
   "cell_type": "code",
   "execution_count": 13,
   "id": "49ed8ad5-0d61-46e7-85c5-d93a4039f9a5",
   "metadata": {
    "tags": []
   },
   "outputs": [],
   "source": [
    "img = X_train[1]"
   ]
  },
  {
   "cell_type": "code",
   "execution_count": 14,
   "id": "36a56353-9994-4d9f-90e5-0a81b1bd0e90",
   "metadata": {
    "tags": []
   },
   "outputs": [],
   "source": [
    "X_train = X_train.reshape(-1,28*28)\n",
    "#X_train = X_train.reshape(-1, 1, 28*28)"
   ]
  },
  {
   "cell_type": "code",
   "execution_count": 16,
   "id": "26cf2dab-3317-44e2-979b-79cb570637be",
   "metadata": {
    "tags": []
   },
   "outputs": [
    {
     "data": {
      "text/plain": [
       "(60000, 784)"
      ]
     },
     "execution_count": 16,
     "metadata": {},
     "output_type": "execute_result"
    }
   ],
   "source": [
    "X_train.shape"
   ]
  },
  {
   "cell_type": "code",
   "execution_count": 17,
   "id": "0b42d929-c0e1-4ae9-88fc-412ae6a1fcb9",
   "metadata": {
    "tags": []
   },
   "outputs": [],
   "source": [
    "X_test = X_test.reshape(-1, 28*28)"
   ]
  },
  {
   "cell_type": "code",
   "execution_count": 18,
   "id": "d0492fc6-fda3-4e43-b7d6-f212fc6a5397",
   "metadata": {
    "tags": []
   },
   "outputs": [
    {
     "data": {
      "text/plain": [
       "(10000, 784)"
      ]
     },
     "execution_count": 18,
     "metadata": {},
     "output_type": "execute_result"
    }
   ],
   "source": [
    "X_test.shape"
   ]
  },
  {
   "cell_type": "code",
   "execution_count": 20,
   "id": "8ed892ff-7bda-4df4-b174-e5ce701a35cb",
   "metadata": {
    "tags": []
   },
   "outputs": [
    {
     "data": {
      "text/plain": [
       "array([5, 0, 4, ..., 5, 6, 8], dtype=uint8)"
      ]
     },
     "execution_count": 20,
     "metadata": {},
     "output_type": "execute_result"
    }
   ],
   "source": [
    "Y_train"
   ]
  },
  {
   "cell_type": "code",
   "execution_count": 25,
   "id": "aff0f784-170e-48b9-8d45-90a3152ad6d6",
   "metadata": {
    "tags": []
   },
   "outputs": [],
   "source": [
    "Y_train = to_categorical(Y_train)\n"
   ]
  },
  {
   "cell_type": "code",
   "execution_count": 26,
   "id": "0a806fcf-dce3-458f-aeb0-2c747eda2279",
   "metadata": {
    "tags": []
   },
   "outputs": [
    {
     "data": {
      "text/plain": [
       "array([[0., 0., 0., ..., 0., 0., 0.],\n",
       "       [1., 0., 0., ..., 0., 0., 0.],\n",
       "       [0., 0., 0., ..., 0., 0., 0.],\n",
       "       ...,\n",
       "       [0., 0., 0., ..., 0., 0., 0.],\n",
       "       [0., 0., 0., ..., 0., 0., 0.],\n",
       "       [0., 0., 0., ..., 0., 1., 0.]], dtype=float32)"
      ]
     },
     "execution_count": 26,
     "metadata": {},
     "output_type": "execute_result"
    }
   ],
   "source": [
    "Y_train"
   ]
  },
  {
   "cell_type": "code",
   "execution_count": 27,
   "id": "032921d2-43f7-4222-bb94-bd1c0c0b7f05",
   "metadata": {
    "tags": []
   },
   "outputs": [],
   "source": [
    "model = Sequential()"
   ]
  },
  {
   "cell_type": "code",
   "execution_count": 28,
   "id": "363a7c57-29e1-4b31-9581-05aaefdc2c0a",
   "metadata": {
    "tags": []
   },
   "outputs": [],
   "source": [
    "model.add( \n",
    "    Dense(units = 512 , input_shape = (784,) , activation = 'relu' )\n",
    ")\n",
    "model.add( \n",
    "    Dense(units = 256 , activation = 'relu' )\n",
    ")\n",
    "model.add( \n",
    "    Dense(units = 128 , activation = 'relu' )\n",
    ")\n",
    "model.add( \n",
    "    Dense(units = 64 , activation = 'relu' )\n",
    ")\n",
    "model.add( \n",
    "    Dense(units = 10 , activation = 'softmax' )\n",
    ")"
   ]
  },
  {
   "cell_type": "code",
   "execution_count": 29,
   "id": "18292274-aea7-4c36-8340-faddfe7fc0e4",
   "metadata": {
    "tags": []
   },
   "outputs": [
    {
     "name": "stdout",
     "output_type": "stream",
     "text": [
      "Model: \"sequential\"\n",
      "_________________________________________________________________\n",
      " Layer (type)                Output Shape              Param #   \n",
      "=================================================================\n",
      " dense (Dense)               (None, 512)               401920    \n",
      "                                                                 \n",
      " dense_1 (Dense)             (None, 256)               131328    \n",
      "                                                                 \n",
      " dense_2 (Dense)             (None, 128)               32896     \n",
      "                                                                 \n",
      " dense_3 (Dense)             (None, 64)                8256      \n",
      "                                                                 \n",
      " dense_4 (Dense)             (None, 10)                650       \n",
      "                                                                 \n",
      "=================================================================\n",
      "Total params: 575050 (2.19 MB)\n",
      "Trainable params: 575050 (2.19 MB)\n",
      "Non-trainable params: 0 (0.00 Byte)\n",
      "_________________________________________________________________\n"
     ]
    }
   ],
   "source": [
    "model.summary()"
   ]
  },
  {
   "cell_type": "code",
   "execution_count": 30,
   "id": "98a821f9-43a7-4272-ad62-2ff229eb4355",
   "metadata": {
    "tags": []
   },
   "outputs": [],
   "source": [
    "model.compile(\n",
    "    optimizer='adam',\n",
    "    \n",
    "    loss='categorical_crossentropy',\n",
    "    \n",
    "    metrics=['accuracy']\n",
    ")"
   ]
  },
  {
   "cell_type": "code",
   "execution_count": 36,
   "id": "f89e0d22-f0db-4d0e-9969-bf98d964b196",
   "metadata": {
    "tags": []
   },
   "outputs": [
    {
     "name": "stdout",
     "output_type": "stream",
     "text": [
      "Epoch 1/2\n",
      "1500/1500 [==============================] - 63s 42ms/step - loss: 0.0409 - accuracy: 0.9917 - val_loss: 0.1670 - val_accuracy: 0.9724\n",
      "Epoch 2/2\n",
      "1500/1500 [==============================] - 53s 35ms/step - loss: 0.0331 - accuracy: 0.9929 - val_loss: 0.2098 - val_accuracy: 0.9689\n"
     ]
    }
   ],
   "source": [
    "# Train the model\n",
    "history = model.fit(X_train, Y_train, epochs=2, validation_split=0.2)"
   ]
  },
  {
   "cell_type": "code",
   "execution_count": 38,
   "id": "04875d08-e96f-4429-8bed-1da4252ba15a",
   "metadata": {
    "tags": []
   },
   "outputs": [
    {
     "name": "stdout",
     "output_type": "stream",
     "text": [
      "313/313 [==============================] - 3s 9ms/step - loss: 0.1927 - accuracy: 0.9699\n",
      "Test Accuracy: 96.99%\n"
     ]
    }
   ],
   "source": [
    "# Evaluate the model on the test set\n",
    "test_loss, test_accuracy = model.evaluate(X_test, to_categorical(Y_test))\n",
    "print(f\"Test Accuracy: {test_accuracy * 100:.2f}%\")"
   ]
  },
  {
   "cell_type": "code",
   "execution_count": 39,
   "id": "38604f86-f948-497b-b25c-948d6bde5f48",
   "metadata": {
    "tags": []
   },
   "outputs": [
    {
     "data": {
      "image/png": "[encoded data removed]",
      "text/plain": [
       "<Figure size 1200x400 with 2 Axes>"
      ]
     },
     "metadata": {},
     "output_type": "display_data"
    }
   ],
   "source": [
    "\n",
    "# Plot training history (loss and accuracy)\n",
    "plt.figure(figsize=(12, 4))\n",
    "plt.subplot(1, 2, 1)\n",
    "plt.plot(history.history['loss'], label='Training Loss')\n",
    "plt.plot(history.history['val_loss'], label='Validation Loss')\n",
    "plt.xlabel('Epoch')\n",
    "plt.ylabel('Loss')\n",
    "plt.legend()\n",
    "plt.title('Training and Validation Loss')\n",
    "\n",
    "plt.subplot(1, 2, 2)\n",
    "plt.plot(history.history['accuracy'], label='Training Accuracy')\n",
    "plt.plot(history.history['val_accuracy'], label='Validation Accuracy')\n",
    "plt.xlabel('Epoch')\n",
    "plt.ylabel('Accuracy')\n",
    "plt.legend()\n",
    "plt.title('Training and Validation Accuracy')\n",
    "\n",
    "plt.show()\n"
   ]
  },
  {
   "cell_type": "code",
   "execution_count": 40,
   "id": "cd03f35e-a738-461f-a33e-48b1e782fcb6",
   "metadata": {
    "tags": []
   },
   "outputs": [],
   "source": [
    "# Predict with the Model:\n",
    "# Select multiple sample images from the test set (e.g., the first 10 images)\n",
    "sample_images = X_test\n"
   ]
  },
  {
   "cell_type": "code",
   "execution_count": 41,
   "id": "efcd7427-93ef-4552-a0ba-b49b9a8bca85",
   "metadata": {
    "tags": []
   },
   "outputs": [
    {
     "name": "stdout",
     "output_type": "stream",
     "text": [
      "313/313 [==============================] - 7s 12ms/step\n"
     ]
    }
   ],
   "source": [
    "# Use the trained model to make predictions on the selected images\n",
    "predictions = model.predict(sample_images)"
   ]
  },
  {
   "cell_type": "code",
   "execution_count": 42,
   "id": "692e2c4a-ebf1-4a3a-a13b-b8f7ce8cf375",
   "metadata": {
    "tags": []
   },
   "outputs": [
    {
     "name": "stdout",
     "output_type": "stream",
     "text": [
      "[[0.00000000e+00 9.16284156e-23 1.47228686e-17 ... 1.00000000e+00\n",
      "  1.16861548e-36 1.45522188e-11]\n",
      " [1.03780390e-20 7.29289846e-21 1.00000000e+00 ... 1.39884061e-15\n",
      "  1.36775698e-21 9.60416996e-34]\n",
      " [3.74875222e-29 1.00000000e+00 6.07156174e-22 ... 1.07317163e-21\n",
      "  2.64932186e-16 1.44115224e-25]\n",
      " ...\n",
      " [0.00000000e+00 0.00000000e+00 1.23029849e-29 ... 0.00000000e+00\n",
      "  0.00000000e+00 4.24452920e-19]\n",
      " [6.76237316e-21 7.39196348e-29 6.91165567e-36 ... 1.12497605e-26\n",
      "  1.71656011e-13 1.36384557e-19]\n",
      " [2.65137721e-11 1.86167881e-13 4.65999168e-33 ... 0.00000000e+00\n",
      "  0.00000000e+00 0.00000000e+00]]\n"
     ]
    }
   ],
   "source": [
    "# Print the predictions\n",
    "print(predictions)"
   ]
  },
  {
   "cell_type": "code",
   "execution_count": 43,
   "id": "075fd4bc-04c8-4c27-b970-807fce1793a2",
   "metadata": {
    "tags": []
   },
   "outputs": [],
   "source": [
    "# Convert predictions to class labels\n",
    "predicted_labels = np.argmax(predictions, axis=1)\n",
    "\n"
   ]
  },
  {
   "cell_type": "code",
   "execution_count": 44,
   "id": "5c7b4627-eba6-48b4-bae8-c6be82c3c434",
   "metadata": {
    "tags": []
   },
   "outputs": [
    {
     "name": "stdout",
     "output_type": "stream",
     "text": [
      "Predicted Labels: [7 2 1 ... 4 5 6]\n"
     ]
    }
   ],
   "source": [
    "# Print the predicted labels\n",
    "print(\"Predicted Labels:\", predicted_labels)\n",
    "\n"
   ]
  },
  {
   "cell_type": "code",
   "execution_count": 46,
   "id": "11b8ed68-851d-40b1-90dd-62899711ef86",
   "metadata": {
    "tags": []
   },
   "outputs": [
    {
     "name": "stdout",
     "output_type": "stream",
     "text": [
      "313/313 [==============================] - 3s 9ms/step\n",
      "Confusion Matrix:\n",
      " [[ 975    0    1    1    0    1    0    0    2    0]\n",
      " [   0 1111    3    1    0    0    1    0   18    1]\n",
      " [   5    0 1011    1    3    0    0    4    7    1]\n",
      " [   1    0    0  992    0    3    0    3    9    2]\n",
      " [   2    6    7    0  937    2    2    3    0   23]\n",
      " [   4    0    0   15    0  857    0    2   10    4]\n",
      " [   9    2    1    0    3   42  889    0   12    0]\n",
      " [   1    2   11    4    1    0    0  988    5   16]\n",
      " [   5    0    1    2    1    0    0    4  956    5]\n",
      " [   3    2    0    8    5    3    0    2    3  983]]\n",
      "Classification Report:\n",
      "               precision    recall  f1-score   support\n",
      "\n",
      "           0       0.97      0.99      0.98       980\n",
      "           1       0.99      0.98      0.98      1135\n",
      "           2       0.98      0.98      0.98      1032\n",
      "           3       0.97      0.98      0.98      1010\n",
      "           4       0.99      0.95      0.97       982\n",
      "           5       0.94      0.96      0.95       892\n",
      "           6       1.00      0.93      0.96       958\n",
      "           7       0.98      0.96      0.97      1028\n",
      "           8       0.94      0.98      0.96       974\n",
      "           9       0.95      0.97      0.96      1009\n",
      "\n",
      "    accuracy                           0.97     10000\n",
      "   macro avg       0.97      0.97      0.97     10000\n",
      "weighted avg       0.97      0.97      0.97     10000\n",
      "\n"
     ]
    }
   ],
   "source": [
    "# Generate a confusion matrix and classification report\n",
    "y_true = Y_test\n",
    "y_pred = model.predict(X_test)\n",
    "y_pred_labels = np.argmax(y_pred, axis=1)\n",
    "confusion = confusion_matrix(y_true, y_pred_labels)\n",
    "classification_report_str = classification_report(y_true, y_pred_labels)\n",
    "\n",
    "print(\"Confusion Matrix:\\n\", confusion)\n",
    "print(\"Classification Report:\\n\", classification_report_str)"
   ]
  },
  {
   "cell_type": "code",
   "execution_count": 48,
   "id": "b331e129-abe5-490b-91e0-36cd21a51bae",
   "metadata": {
    "tags": []
   },
   "outputs": [
    {
     "name": "stdout",
     "output_type": "stream",
     "text": [
      "313/313 [==============================] - 4s 11ms/step\n"
     ]
    },
    {
     "data": {
      "image/png": "[encoded data removed]",
      "text/plain": [
       "<Figure size 1200x600 with 15 Axes>"
      ]
     },
     "metadata": {},
     "output_type": "display_data"
    }
   ],
   "source": [
    "\n",
    "# Use the trained model to make predictions on the test set\n",
    "predictions = model.predict(X_test)\n",
    "\n",
    "# Convert predictions to class labels\n",
    "predicted_labels = np.argmax(predictions, axis=1)\n",
    "\n",
    "# Select some random test samples (e.g., the first 15)\n",
    "num_samples_to_display = 15\n",
    "sample_indices = np.random.choice(len(X_test), num_samples_to_display, replace=False)\n",
    "\n",
    "# Create a figure to display the comparison\n",
    "plt.figure(figsize=(12, 6))\n",
    "\n",
    "for i, sample_index in enumerate(sample_indices):\n",
    "    plt.subplot(3, 5, i + 1)\n",
    "    plt.imshow(X_test[sample_index].reshape(28, 28), cmap='gray')\n",
    "    plt.title(f\"Actual: {Y_test[sample_index]}\\nPredicted: {predicted_labels[sample_index]}\")\n",
    "    plt.axis('off')\n",
    "\n",
    "plt.tight_layout()\n",
    "plt.show()\n",
    "\n"
   ]
  },
  {
   "cell_type": "code",
   "execution_count": null,
   "id": "1bae7478-e507-4009-8c2b-9754738ee53d",
   "metadata": {},
   "outputs": [],
   "source": []
  }
 ],
 "metadata": {
  "kernelspec": {
   "display_name": "Python 3 (ipykernel)",
   "language": "python",
   "name": "python3"
  },
  "language_info": {
   "codemirror_mode": {
    "name": "ipython",
    "version": 3
   },
   "file_extension": ".py",
   "mimetype": "text/x-python",
   "name": "python",
   "nbconvert_exporter": "python",
   "pygments_lexer": "ipython3",
   "version": "3.11.5"
  }
 },
 "nbformat": 4,
 "nbformat_minor": 5
}
